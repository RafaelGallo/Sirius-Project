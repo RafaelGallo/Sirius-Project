{
 "cells": [
  {
   "cell_type": "markdown",
   "metadata": {},
   "source": [
    "![title](imagens/a2.jpg)"
   ]
  },
  {
   "cell_type": "markdown",
   "metadata": {},
   "source": [
    "# Classificação de galáxias, estrelas e quasares.\n",
    "\n",
    "\n",
    "**Author: Rafael Gallo**\n",
    "\n",
    "**Projeto de classificação astros espaciais**\n",
    "\n",
    "**Algoritmo ultilizado: K-NN, Naive bayes**"
   ]
  },
  {
   "cell_type": "markdown",
   "metadata": {},
   "source": [
    "**Contexto**\n",
    "\n",
    "Sloan Digital Sky Survey atual versão de dados do servidor DR16 com galáxias, estrelas e quasares.\n",
    "\n",
    "\n",
    "**Conteúdo**\n",
    "\n",
    "A tabela resulta de uma consulta que une duas tabelas:\n",
    "\n",
    "\"PhotoObj\" que contém dados fotométricos\n",
    "\"SpecObj\" que contém dados espectrais.\n",
    "16 variáveis ​​(double) e 1 variável adicional (char) 'class'.\n",
    "Um objeto de classe pode ser previsto a partir das outras 16 variáveis.\n",
    "\n",
    "\n",
    "\n",
    "\n",
    "\n",
    "# Inspiração\n",
    "O Sloan Digital Sky Survey criou os mapas tridimensionais mais detalhados do Universo já feitos, com imagens multicoloridas profundas de um terço do céu e espectros de mais de três milhões de objetos astronômicos. Permite conhecer e explorar todas as fases e pesquisas - passadas, presentes e futuras - do SDSS."
   ]
  },
  {
   "cell_type": "code",
   "execution_count": null,
   "metadata": {},
   "outputs": [],
   "source": [
    "## Descrição das variáveis\n",
    "\n",
    "## objid = Identificador de objeto\n",
    "## ra = J2000 Ascensão Reta (banda r)\n",
    "## dec = Declinação J2000 (banda r)\n",
    "## u = melhor do ajuste de magnitude de deV / Exp (banda u)\n",
    "## g = melhor ajuste de magnitude de deV / Exp ( g-band)\n",
    "## r = melhor do ajuste de magnitude de deV / Exp (banda r)\n",
    "## i = melhor de ajuste de magnitude de deV / Exp (banda i)\n",
    "## z = melhor de ajuste de magnitude de deV / Exp (banda z)\n",
    "## run = Run Number\n",
    "## rerun = Número de repetição camcol \n",
    "## Campo da coluna da câmera = Número do campo\n",
    "## specobjid = Classe de identificador de objeto = classe de objeto (objeto de galáxia, estrela ou quasar)\n",
    "## redshift = Placa final Redshift número da placa\n",
    "## mjd = MJD da observação\n",
    "## fibreid = fibreID"
   ]
  },
  {
   "cell_type": "code",
   "execution_count": null,
   "metadata": {},
   "outputs": [],
   "source": [
    "from platform import python_version\n",
    "\n",
    "print('Versão Jupyter Notebook neste projeto:', python_version())"
   ]
  },
  {
   "cell_type": "code",
   "execution_count": null,
   "metadata": {},
   "outputs": [],
   "source": [
    "import pandas as pd\n",
    "import numpy as np\n",
    "import seaborn as sns\n",
    "import matplotlib.pyplot as plt\n",
    "%matplotlib inline"
   ]
  },
  {
   "cell_type": "code",
   "execution_count": null,
   "metadata": {},
   "outputs": [],
   "source": [
    "plt.style.use('seaborn-darkgrid')\n",
    "sns.set_style(\"darkgrid\") \n",
    "\n",
    "sns.set(style=\"darkgrid\", color_codes=True, font_scale=1.5)\n",
    "color = sns.color_palette()"
   ]
  },
  {
   "cell_type": "code",
   "execution_count": null,
   "metadata": {},
   "outputs": [],
   "source": [
    "df = pd.read_csv(\"Skyserver_12_30_2019 4_49_58 PM.csv\")\n",
    "df.head()"
   ]
  },
  {
   "cell_type": "code",
   "execution_count": null,
   "metadata": {},
   "outputs": [],
   "source": [
    "df.tail()"
   ]
  },
  {
   "cell_type": "code",
   "execution_count": null,
   "metadata": {},
   "outputs": [],
   "source": [
    "df.shape"
   ]
  },
  {
   "cell_type": "code",
   "execution_count": null,
   "metadata": {},
   "outputs": [],
   "source": [
    "df.info()"
   ]
  },
  {
   "cell_type": "code",
   "execution_count": null,
   "metadata": {},
   "outputs": [],
   "source": [
    "df.isna().sum()"
   ]
  },
  {
   "cell_type": "code",
   "execution_count": null,
   "metadata": {},
   "outputs": [],
   "source": [
    "df.sum()"
   ]
  },
  {
   "cell_type": "code",
   "execution_count": null,
   "metadata": {},
   "outputs": [],
   "source": [
    "df.describe()"
   ]
  },
  {
   "cell_type": "code",
   "execution_count": null,
   "metadata": {},
   "outputs": [],
   "source": [
    "corr = df.corr()\n",
    "corr"
   ]
  },
  {
   "cell_type": "code",
   "execution_count": null,
   "metadata": {},
   "outputs": [],
   "source": [
    "plt.figure(figsize=(35, 10))\n",
    "\n",
    "sns.heatmap(corr,  cmap = 'plasma', annot= True);"
   ]
  },
  {
   "cell_type": "markdown",
   "metadata": {},
   "source": [
    "# Análise exploratória"
   ]
  },
  {
   "cell_type": "code",
   "execution_count": null,
   "metadata": {},
   "outputs": [],
   "source": [
    "stars = df[df['class'] == 'STAR']\n",
    "quasars = df[df['class'] == 'QSO']\n",
    "galaxies = df[df['class'] == 'GALAXY']"
   ]
  },
  {
   "cell_type": "code",
   "execution_count": null,
   "metadata": {},
   "outputs": [],
   "source": [
    "plt.figure(figsize=(15, 8))\n",
    "\n",
    "ax = sns.countplot(df[\"class\"])"
   ]
  },
  {
   "cell_type": "code",
   "execution_count": null,
   "metadata": {},
   "outputs": [],
   "source": [
    "plt.figure(figsize=(15, 8))\n",
    "\n",
    "ax = sns.boxplot(df[\"redshift\"])"
   ]
  },
  {
   "cell_type": "code",
   "execution_count": null,
   "metadata": {},
   "outputs": [],
   "source": [
    "plt.figure(figsize=(15, 8))\n",
    "\n",
    "sns.distplot(stars[\"redshift\"])"
   ]
  },
  {
   "cell_type": "code",
   "execution_count": null,
   "metadata": {},
   "outputs": [],
   "source": [
    "plt.figure(figsize=(15, 8))\n",
    "\n",
    "sns.distplot(galaxies[\"redshift\"])"
   ]
  },
  {
   "cell_type": "code",
   "execution_count": null,
   "metadata": {},
   "outputs": [],
   "source": [
    "plt.figure(figsize=(15, 8))\n",
    "\n",
    "sns.distplot(quasars[\"redshift\"])"
   ]
  },
  {
   "cell_type": "code",
   "execution_count": null,
   "metadata": {},
   "outputs": [],
   "source": [
    "sns.set(style='darkgrid')\n",
    "color_palette = 'GnBu_d'\n",
    "\n",
    "fig, axs = plt.subplots(nrows=3)\n",
    "fig = plt.gcf()\n",
    "fig.set_size_inches(13,9)\n",
    "plt.subplots_adjust(hspace=0.8)\n",
    "\n",
    "sns.boxplot(stars['redshift'], palette=color_palette, ax=axs[0]).set_title('Stars')\n",
    "sns.boxplot(galaxies['redshift'], palette=color_palette, ax=axs[1]).set_title('Galaxies')\n",
    "sns.boxplot(quasars['redshift'], palette=color_palette, ax=axs[2]).set_title('Quasars')\n",
    "plt.show()"
   ]
  },
  {
   "cell_type": "code",
   "execution_count": null,
   "metadata": {},
   "outputs": [],
   "source": [
    "sns.pairplot(df)"
   ]
  },
  {
   "cell_type": "markdown",
   "metadata": {},
   "source": [
    "# Treino e Teste"
   ]
  },
  {
   "cell_type": "code",
   "execution_count": null,
   "metadata": {},
   "outputs": [],
   "source": [
    "df = df.drop(columns=['objid', \n",
    "                      'ra',\n",
    "                      'dec', \n",
    "                      'run', \n",
    "                      'rerun', \n",
    "                      'camcol',\n",
    "                      'field',\n",
    "                      'specobjid', \n",
    "                      'plate', \n",
    "                      'mjd', \n",
    "                      'fiberid'])\n",
    "df.head()"
   ]
  },
  {
   "cell_type": "code",
   "execution_count": null,
   "metadata": {},
   "outputs": [],
   "source": [
    "x = df[['u','g','r','i','z','redshift']]\n",
    "y = pd.factorize(df['class'])[0]"
   ]
  },
  {
   "cell_type": "code",
   "execution_count": null,
   "metadata": {},
   "outputs": [],
   "source": [
    "from sklearn.model_selection import train_test_split\n",
    "\n",
    "x_train, x_test, y_train, y_test = train_test_split(x, y, test_size = 0.30, random_state = 0)"
   ]
  },
  {
   "cell_type": "code",
   "execution_count": null,
   "metadata": {},
   "outputs": [],
   "source": [
    "x_train.shape"
   ]
  },
  {
   "cell_type": "code",
   "execution_count": null,
   "metadata": {},
   "outputs": [],
   "source": [
    "y_train.shape"
   ]
  },
  {
   "cell_type": "code",
   "execution_count": null,
   "metadata": {},
   "outputs": [],
   "source": [
    "x_test.shape"
   ]
  },
  {
   "cell_type": "code",
   "execution_count": null,
   "metadata": {},
   "outputs": [],
   "source": [
    "y_test.shape"
   ]
  },
  {
   "cell_type": "markdown",
   "metadata": {},
   "source": [
    "# Pré processamento"
   ]
  },
  {
   "cell_type": "code",
   "execution_count": null,
   "metadata": {},
   "outputs": [],
   "source": [
    "from sklearn.preprocessing import RobustScaler\n",
    "\n",
    "Scaler = RobustScaler()\n",
    "scaler_train = Scaler.fit_transform(x_train)\n",
    "scaler_test = Scaler.fit_transform(x_test)"
   ]
  },
  {
   "cell_type": "code",
   "execution_count": null,
   "metadata": {},
   "outputs": [],
   "source": [
    "scaler_train"
   ]
  },
  {
   "cell_type": "code",
   "execution_count": null,
   "metadata": {},
   "outputs": [],
   "source": [
    "scaler_test"
   ]
  },
  {
   "cell_type": "markdown",
   "metadata": {},
   "source": [
    "# Modelo de machine learning"
   ]
  },
  {
   "cell_type": "markdown",
   "metadata": {},
   "source": [
    "# **Naive bayes**"
   ]
  },
  {
   "cell_type": "code",
   "execution_count": null,
   "metadata": {},
   "outputs": [],
   "source": [
    "from sklearn.naive_bayes import GaussianNB\n",
    "\n",
    "naive = GaussianNB()\n",
    "naive.fit(x_train, y_train)\n",
    "naive_pred = naive.predict(x_test)\n",
    "naive_scor = naive.score(x_train, y_train)\n",
    "naive_scor"
   ]
  },
  {
   "cell_type": "code",
   "execution_count": null,
   "metadata": {},
   "outputs": [],
   "source": [
    "# Previsão do naive bayes\n",
    "naive_pred"
   ]
  },
  {
   "cell_type": "markdown",
   "metadata": {},
   "source": [
    "# K-NN"
   ]
  },
  {
   "cell_type": "code",
   "execution_count": null,
   "metadata": {},
   "outputs": [],
   "source": [
    "from sklearn.neighbors import KNeighborsClassifier\n",
    "\n",
    "knn = KNeighborsClassifier(n_neighbors = 15, metric = \"minkowski\", p = 2)\n",
    "knn.fit(x_train, y_train)\n",
    "knn_pred = knn.predict(x_test)\n",
    "knn_scor = knn.score(x_train, y_train)\n",
    "knn_scor"
   ]
  },
  {
   "cell_type": "code",
   "execution_count": null,
   "metadata": {},
   "outputs": [],
   "source": [
    "# Previsão do K-NN\n",
    "knn_pred"
   ]
  },
  {
   "cell_type": "markdown",
   "metadata": {},
   "source": [
    "# Árvore de decisão"
   ]
  },
  {
   "cell_type": "code",
   "execution_count": null,
   "metadata": {},
   "outputs": [],
   "source": [
    "from sklearn.tree import DecisionTreeClassifier\n",
    "from sklearn import tree\n",
    "\n",
    "de_tree = DecisionTreeClassifier()\n",
    "de_tree = de_tree.fit(x_train, y_train)\n",
    "de_score = de_tree.score(x_train, y_train)\n",
    "de_score"
   ]
  },
  {
   "cell_type": "code",
   "execution_count": null,
   "metadata": {},
   "outputs": [],
   "source": [
    "# Previsão da árvore de decisão\n",
    "\n",
    "tree_pred = de_tree.predict(x_test)\n",
    "tree_pred"
   ]
  },
  {
   "cell_type": "code",
   "execution_count": null,
   "metadata": {},
   "outputs": [],
   "source": [
    "from sklearn.metrics import accuracy_score\n",
    "\n",
    "acuracia_naive_bayes = accuracy_score(y_test, naive_pred)\n",
    "acuracia_KNN = accuracy_score(y_test, knn_pred)\n",
    "acuracia_tree = accuracy_score(y_test, tree_pred)\n",
    "\n",
    "print(\"Acuracia modelo 1 - Naive bayes foi: %.3f\" % (acuracia_naive_bayes * 100))\n",
    "print(\"Acuracia modelo 2 - K-NN foi: %.3f\" % (acuracia_KNN * 100))\n",
    "print(\"Acuracia modelo 3 - Arvore de decisão foi: %.3f\" % (acuracia_tree * 100))"
   ]
  },
  {
   "cell_type": "code",
   "execution_count": null,
   "metadata": {},
   "outputs": [],
   "source": [
    "from sklearn.metrics import confusion_matrix\n",
    "\n",
    "matrix_confusion_1 =  confusion_matrix(y_test, naive_pred)\n",
    "matrix_confusion_2 =  confusion_matrix(y_test, knn_pred)\n",
    "matrix_confusion_3 =  confusion_matrix(y_test, tree_pred)"
   ]
  },
  {
   "cell_type": "code",
   "execution_count": null,
   "metadata": {},
   "outputs": [],
   "source": [
    "y_true  = ['GALAXY', 'QUASAR', \"STAR\"]\n",
    "y_pred  = ['GALAXY', 'QUASAR', \"STAR\"]\n",
    "\n",
    "matrix_confusion =  confusion_matrix(y_test, naive_pred)\n",
    "\n",
    "df_cm = pd.DataFrame(matrix_confusion_1, columns=np.unique(y_true), index = np.unique(y_true))\n",
    "\n",
    "df_cm.index.name = 'Actual'\n",
    "df_cm.columns.name = 'Predicted'\n",
    "plt.figure(figsize = (10,7))\n",
    "sns.set(font_scale=1.4)\n",
    "\n",
    "plt.title(\"Model 1 - Matrix confusion - Naive bayes\")\n",
    "ax = sns.heatmap(df_cm, cmap = 'plasma', annot=True,annot_kws={\"size\": 16}, fmt = \"\")"
   ]
  },
  {
   "cell_type": "code",
   "execution_count": null,
   "metadata": {},
   "outputs": [],
   "source": [
    "y_true  = ['GALAXY', 'QUASAR', \"STAR\"]\n",
    "y_pred  = ['GALAXY', 'QUASAR', \"STAR\"]\n",
    "\n",
    "matrix_confusion =  confusion_matrix(y_test, naive_pred)\n",
    "\n",
    "df_cm = pd.DataFrame(matrix_confusion_2, columns=np.unique(y_true), index = np.unique(y_true))\n",
    "\n",
    "df_cm.index.name = 'Actual'\n",
    "df_cm.columns.name = 'Predicted'\n",
    "plt.figure(figsize = (10,7))\n",
    "sns.set(font_scale=1.4)\n",
    "\n",
    "plt.title(\"Model 2 - Matrix confusion - KNN\")\n",
    "sns.heatmap(df_cm, cmap = 'plasma', annot=True,annot_kws={\"size\": 16}, fmt = \"\")"
   ]
  },
  {
   "cell_type": "code",
   "execution_count": null,
   "metadata": {},
   "outputs": [],
   "source": [
    "plt.style.use('seaborn-darkgrid')\n",
    "sns.set_style(\"darkgrid\") "
   ]
  },
  {
   "cell_type": "code",
   "execution_count": null,
   "metadata": {},
   "outputs": [],
   "source": [
    "y_true  = ['GALAXY', 'QUASAR', \"STAR\"]\n",
    "y_pred  = ['GALAXY', 'QUASAR', \"STAR\"]\n",
    "\n",
    "matrix_confusion =  confusion_matrix(y_test, naive_pred)\n",
    "\n",
    "df_cm = pd.DataFrame(matrix_confusion_3, columns=np.unique(y_true), index = np.unique(y_true))\n",
    "\n",
    "df_cm.index.name = 'Actual'\n",
    "df_cm.columns.name = 'Predicted'\n",
    "plt.figure(figsize = (10,7))\n",
    "sns.set(font_scale=1.4)\n",
    "\n",
    "plt.title(\"Model 3 - Matrix confusion - Árvore de decisão\")\n",
    "sns.heatmap(df_cm, cmap = 'plasma', annot=True, annot_kws = {\"size\": 16}, fmt = \"\")"
   ]
  },
  {
   "cell_type": "code",
   "execution_count": null,
   "metadata": {},
   "outputs": [],
   "source": [
    "from sklearn.metrics import precision_score\n",
    "from sklearn.metrics import recall_score\n",
    "from sklearn.metrics import recall_score\n",
    "from sklearn.metrics import f1_score\n",
    "\n",
    "print(\"Precision - Naive bayes = {}\".format(precision_score(y_test, naive_pred, average='macro')))\n",
    "print(\"Recall - Naive bayes = {}\".format(recall_score(y_test, naive_pred, average='macro')))\n",
    "print(\"Accuracy - Naive bayes = {}\".format(accuracy_score(y_test, naive_pred)))\n",
    "print(\"F1 Score - Naive bayes = {}\".format(f1_score(y_test, naive_pred, average='macro')))\n",
    "print(\"\\n\")\n",
    "\n",
    "print(\"Precision - K-NN = {}\".format(precision_score(y_test, knn_pred, average='macro')))\n",
    "print(\"Recall - K-NN = {}\".format(recall_score(y_test, knn_pred, average='macro')))\n",
    "print(\"Accuracy - K-NN = {}\".format(accuracy_score(y_test, knn_pred)))\n",
    "print(\"F1 Score - K-NN = {}\".format(f1_score(y_test, knn_pred, average='macro')))\n",
    "print(\"\\n\")\n",
    "\n",
    "print(\"Precision - Arvore de decisão = {}\".format(precision_score(y_test, tree_pred, average='macro')))\n",
    "print(\"Recall - Arvore de decisão = {}\".format(recall_score(y_test, tree_pred, average='macro')))\n",
    "print(\"Accuracy - Arvore de decisão = {}\".format(accuracy_score(y_test, tree_pred)))\n",
    "print(\"F1 Score - Árvore de decisão = {}\".format(f1_score(y_test, tree_pred, average='macro')))\n",
    "print(\"\\n\")"
   ]
  },
  {
   "cell_type": "code",
   "execution_count": null,
   "metadata": {},
   "outputs": [],
   "source": [
    "from sklearn.metrics import classification_report\n",
    "\n",
    "print(\"Naive bayes\", classification_report(y_test, naive_pred))\n",
    "print(\"\\n\")\n",
    "print(\"K-NN\", classification_report(y_test, knn_pred))\n",
    "print(\"\\n\")\n",
    "print(\"Arvore de decisão\", classification_report(y_test, tree_pred))"
   ]
  },
  {
   "cell_type": "code",
   "execution_count": null,
   "metadata": {},
   "outputs": [],
   "source": []
  },
  {
   "cell_type": "code",
   "execution_count": null,
   "metadata": {},
   "outputs": [],
   "source": []
  }
 ],
 "metadata": {
  "kernelspec": {
   "display_name": "Python 3",
   "language": "python",
   "name": "python3"
  },
  "language_info": {
   "codemirror_mode": {
    "name": "ipython",
    "version": 3
   },
   "file_extension": ".py",
   "mimetype": "text/x-python",
   "name": "python",
   "nbconvert_exporter": "python",
   "pygments_lexer": "ipython3",
   "version": "3.7.4"
  }
 },
 "nbformat": 4,
 "nbformat_minor": 2
}
